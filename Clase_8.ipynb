{
 "cells": [
  {
   "cell_type": "code",
   "execution_count": null,
   "metadata": {},
   "outputs": [],
   "source": [
    "import pandas as pd"
   ]
  },
  {
   "cell_type": "code",
   "execution_count": 17,
   "metadata": {},
   "outputs": [
    {
     "data": {
      "text/plain": [
       "['21',\n",
       " '18',\n",
       " '18',\n",
       " '19',\n",
       " '18',\n",
       " '19',\n",
       " '21',\n",
       " '19',\n",
       " '19',\n",
       " '19',\n",
       " '19',\n",
       " '18',\n",
       " '18',\n",
       " '22',\n",
       " '20',\n",
       " '18',\n",
       " '18',\n",
       " '19',\n",
       " '19',\n",
       " '20']"
      ]
     },
     "execution_count": 17,
     "metadata": {},
     "output_type": "execute_result"
    }
   ],
   "source": [
    "df = pd.read_csv('./Data/dataset_alumnos.csv')\n",
    "\n",
    "f = open(\"./Data/dataset_alumnos.csv\")\n",
    "msgs = f.readlines()\n",
    "col = msgs[0]\n",
    "edad = [n.strip().split(',')[1] for n in msgs[1:]]\n",
    "edad"
   ]
  },
  {
   "cell_type": "code",
   "execution_count": null,
   "metadata": {},
   "outputs": [],
   "source": [
    "f.reader()\n"
   ]
  },
  {
   "cell_type": "code",
   "execution_count": null,
   "metadata": {},
   "outputs": [],
   "source": [
    "f.close()"
   ]
  }
 ],
 "metadata": {
  "kernelspec": {
   "display_name": "Python 3",
   "language": "python",
   "name": "python3"
  },
  "language_info": {
   "codemirror_mode": {
    "name": "ipython",
    "version": 3
   },
   "file_extension": ".py",
   "mimetype": "text/x-python",
   "name": "python",
   "nbconvert_exporter": "python",
   "pygments_lexer": "ipython3",
   "version": "3.12.0"
  }
 },
 "nbformat": 4,
 "nbformat_minor": 2
}
