{
 "cells": [
  {
   "cell_type": "code",
   "execution_count": 1,
   "metadata": {},
   "outputs": [],
   "source": [
    "import requests\n",
    "import json "
   ]
  },
  {
   "cell_type": "code",
   "execution_count": 7,
   "metadata": {},
   "outputs": [],
   "source": [
    "class Alumno():\n",
    "    \n",
    "    def __init__(self,Nombre,Signo,Cancion):\n",
    "        self.Nombre = Nombre\n",
    "        self.Signo = Signo\n",
    "        self.Cancion = Cancion\n",
    "        \n",
    "    def __str__(self):\n",
    "        return \"El alumno es : {} \\nTiene el signo: {} \\nSu cancion favorita es {}\".format(self.Nombre,self.Signo,self.Cancion)"
   ]
  },
  {
   "cell_type": "code",
   "execution_count": null,
   "metadata": {},
   "outputs": [],
   "source": []
  },
  {
   "cell_type": "code",
   "execution_count": 8,
   "metadata": {},
   "outputs": [
    {
     "name": "stdout",
     "output_type": "stream",
     "text": [
      "El alumno es : Mariana \n",
      "Tiene el signo: Virgo \n",
      "Su cancion favorita es Model Fucker\n"
     ]
    }
   ],
   "source": [
    "Mariana = Alumno(\"Mariana\", \"Virgo\", \"Model Fucker\")\n",
    "print(Mariana)"
   ]
  }
 ],
 "metadata": {
  "kernelspec": {
   "display_name": "Python 3",
   "language": "python",
   "name": "python3"
  },
  "language_info": {
   "codemirror_mode": {
    "name": "ipython",
    "version": 3
   },
   "file_extension": ".py",
   "mimetype": "text/x-python",
   "name": "python",
   "nbconvert_exporter": "python",
   "pygments_lexer": "ipython3",
   "version": "3.12.0"
  }
 },
 "nbformat": 4,
 "nbformat_minor": 2
}
