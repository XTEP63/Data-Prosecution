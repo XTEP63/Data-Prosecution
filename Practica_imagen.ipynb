{
 "cells": [
  {
   "cell_type": "code",
   "execution_count": 5,
   "metadata": {},
   "outputs": [],
   "source": [
    "import cv2\n",
    "import numpy as np"
   ]
  },
  {
   "cell_type": "code",
   "execution_count": 6,
   "metadata": {},
   "outputs": [],
   "source": [
    "imagen_o = cv2.imread(\"./images/C.jpg\")\n",
    "r, c, d = imagen_o.shape"
   ]
  },
  {
   "cell_type": "code",
   "execution_count": 7,
   "metadata": {},
   "outputs": [],
   "source": [
    "def clasificador(imagen):\n",
    "    \n",
    "    imagen_bin = np.zeros_like(imagen)\n",
    "    \n",
    "    #r  100, 143\n",
    "    #g  96, 107\n",
    "    #b  15, 48\n",
    "    #BGR\n",
    "\n",
    "    for i in range(r):\n",
    "        for j in range(c):\n",
    "            if imagen[i, j, 0] >= 15/255 and imagen[i, j, 0] <48/255:\n",
    "                if imagen[i, j, 1] >= 96/255 and imagen[i, j, 1] <=107/255:\n",
    "                    if imagen[i, j, 2] >= 100/255 and imagen[i, j, 2] <=143/255:\n",
    "                        imagen_bin[i,j,:] = 255\n",
    "    return imagen_bin\n"
   ]
  },
  {
   "cell_type": "code",
   "execution_count": 8,
   "metadata": {},
   "outputs": [],
   "source": [
    "def Alpha(imagen, value = 0.3):\n",
    "\n",
    "    imagen_alpha = imagen.copy() * value\n",
    "    imagen_alpha = np.asarray(imagen_alpha, dtype = np.uint8)\n",
    "    \n",
    "    return imagen_alpha"
   ]
  },
  {
   "cell_type": "code",
   "execution_count": 9,
   "metadata": {},
   "outputs": [],
   "source": [
    "def clasificador_chromatic(imagen):\n",
    "    imagen_cr = imagen.copy()\n",
    "    imagen = np.asarray(imagen, dtype = np.uint16)\n",
    "    imagen_cr = np.asarray(imagen_cr, dtype = np.float32)\n",
    "\n",
    "    for i in range(r):\n",
    "        for j in range(c):\n",
    "            sumaRGB = (imagen[i,j,2] + imagen[i,j,1] + imagen[i,j,0]) \n",
    "            if imagen[i,j,2] + imagen[i,j,1] + imagen[i,j,0] !=0:\n",
    "                imagen_cr[i,j,2] = imagen[i,j,2] / sumaRGB\n",
    "                imagen_cr[i,j,1] = imagen[i,j,1] / sumaRGB\n",
    "                imagen_cr[i,j,0] = imagen[i,j,0] / sumaRGB\n",
    "            else:\n",
    "                imagen_cr[i,j,2] = imagen[i,j,2] / 1\n",
    "                imagen_cr[i,j,1] = imagen[i,j,1] / 1\n",
    "                imagen_cr[i,j,0] = imagen[i,j,0] / 1\n",
    "\n",
    "    imagen = np.asarray(imagen, dtype = np.uint8)\n",
    "    \n",
    "    return(imagen_cr)"
   ]
  },
  {
   "cell_type": "code",
   "execution_count": 10,
   "metadata": {},
   "outputs": [],
   "source": [
    "cv2.imshow(\"IMAGEN ORIGINAL\", imagen_o)\n",
    "cv2.waitKey(0)\n",
    "cv2.destroyAllWindows()\n",
    "\n",
    "imagen_cr = clasificador_chromatic(imagen_o)\n",
    "\n",
    "cv2.imshow(\"IMAGEN CHROMATICA\", imagen_cr)\n",
    "cv2.waitKey(0)\n",
    "cv2.destroyAllWindows()\n",
    "\n",
    "imagen_bin = clasificador(imagen_cr)\n",
    "\n",
    "cv2.imshow(\"IMAGEN BINARIA\", imagen_bin)\n",
    "cv2.waitKey(0)\n",
    "cv2.destroyAllWindows()\n",
    "\n",
    "imagen_o2 = Alpha(imagen_o, 0.6)\n",
    "\n",
    "cv2.imshow(\"IMAGEN BINARIA\", imagen_o2)\n",
    "cv2.waitKey(0)\n",
    "cv2.destroyAllWindows()\n",
    "\n",
    "imagen_cr2 = clasificador_chromatic(imagen_o2)\n",
    "\n",
    "cv2.imshow(\"IMAGEN CHROMATICA\", imagen_cr2)\n",
    "cv2.waitKey(0)\n",
    "cv2.destroyAllWindows()\n",
    "\n",
    "imagen_bin2 = clasificador(imagen_cr2)\n",
    "\n",
    "cv2.imshow(\"IMAGEN BINARIA\", imagen_bin2)\n",
    "cv2.waitKey(0)\n",
    "cv2.destroyAllWindows()\n",
    "\n",
    "imagen_o3 = Alpha(imagen_o, 0.3)\n",
    "\n",
    "cv2.imshow(\"IMAGEN BINARIA\", imagen_o3)\n",
    "cv2.waitKey(0)\n",
    "cv2.destroyAllWindows()\n",
    "\n",
    "imagen_cr3 = clasificador_chromatic(imagen_o3)\n",
    "\n",
    "cv2.imshow(\"IMAGEN CHROMATICA\", imagen_cr3)\n",
    "cv2.waitKey(0)\n",
    "cv2.destroyAllWindows()\n",
    "\n",
    "imagen_bin3 = clasificador(imagen_cr3)\n",
    "\n",
    "cv2.imshow(\"IMAGEN BINARIA\", imagen_bin3)\n",
    "cv2.waitKey(0)\n",
    "cv2.destroyAllWindows()\n",
    "\n"
   ]
  },
  {
   "cell_type": "code",
   "execution_count": 11,
   "metadata": {},
   "outputs": [],
   "source": [
    "Aumento_luz = 50\n",
    "\n",
    "imagen_r = imagen_o.copy() \n",
    "imagen_r[:,:,2] += Aumento_luz\n",
    "\n",
    "imagen_g = imagen_o.copy() \n",
    "imagen_g[:,:,1] += Aumento_luz\n",
    "\n",
    "imagen_b = imagen_o.copy() \n",
    "imagen_b[:,:,0] += Aumento_luz\n",
    "\n",
    "cv2.imshow(\"IMAGEN LUZ ROJA\", imagen_r)\n",
    "cv2.waitKey(0)\n",
    "cv2.destroyAllWindows()\n",
    "\n",
    "cv2.imshow(\"IMAGEN LUZ VERDE\", imagen_g)\n",
    "cv2.waitKey(0)\n",
    "cv2.destroyAllWindows()\n",
    "\n",
    "cv2.imshow(\"IMAGEN LUZ AZUL\", imagen_b)\n",
    "cv2.waitKey(0)\n",
    "cv2.destroyAllWindows()\n"
   ]
  }
 ],
 "metadata": {
  "kernelspec": {
   "display_name": "base",
   "language": "python",
   "name": "python3"
  },
  "language_info": {
   "codemirror_mode": {
    "name": "ipython",
    "version": 3
   },
   "file_extension": ".py",
   "mimetype": "text/x-python",
   "name": "python",
   "nbconvert_exporter": "python",
   "pygments_lexer": "ipython3",
   "version": "3.12.0"
  }
 },
 "nbformat": 4,
 "nbformat_minor": 2
}
