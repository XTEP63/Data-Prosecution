{
 "cells": [
  {
   "cell_type": "code",
   "execution_count": 1,
   "metadata": {},
   "outputs": [],
   "source": [
    "import pandas as pd\n",
    "import numpy as np"
   ]
  },
  {
   "cell_type": "code",
   "execution_count": 2,
   "metadata": {},
   "outputs": [
    {
     "name": "stdout",
     "output_type": "stream",
     "text": [
      "['Order ID', 'Product ID', 'Product Category', 'Quantity', 'Unit Price', 'Total Price', 'Order Date', 'Customer ID', 'Payment Type', 'Order Status\\n']\n"
     ]
    }
   ],
   "source": [
    "f = open(\"./Data/larger_sales_dataset.csv\")\n",
    "f.seek(0)\n",
    "Data = f.readlines()\n",
    "col = Data[0].split(\",\")\n",
    "print(col)\n",
    "\n"
   ]
  },
  {
   "cell_type": "code",
   "execution_count": 3,
   "metadata": {},
   "outputs": [
    {
     "name": "stdout",
     "output_type": "stream",
     "text": [
      "Se vendieron 10001\n"
     ]
    }
   ],
   "source": [
    "Cantidad_product = len(Data)\n",
    "print(\"Se vendieron {}\".format(Cantidad_product))"
   ]
  },
  {
   "cell_type": "code",
   "execution_count": 4,
   "metadata": {},
   "outputs": [
    {
     "name": "stdout",
     "output_type": "stream",
     "text": [
      "La venta total fue de $$ 7627241.966965766\n"
     ]
    }
   ],
   "source": [
    "index_TP= col.index(\"Total Price\")\n",
    "\n",
    "Total_p = [n.split(',')[index_TP].strip() for n in Data[1:]]\n",
    "Total_p_int = [float(x) for x in Total_p]\n",
    "Venta_t = sum(Total_p_int)\n",
    "print(\"La venta total fue de $$ {}\".format(Venta_t))"
   ]
  },
  {
   "cell_type": "code",
   "execution_count": 5,
   "metadata": {},
   "outputs": [
    {
     "name": "stdout",
     "output_type": "stream",
     "text": [
      "{'Debit Card': 2529, 'Gift Card': 2445, 'Credit Card': 2453, 'PayPal': 2573}\n",
      "2529 Personas compraron con Debit Card\n",
      "2445 Personas compraron con Gift Card\n",
      "2453 Personas compraron con Credit Card\n",
      "2573 Personas compraron con PayPal\n"
     ]
    }
   ],
   "source": [
    "index_PT= col.index(\"Payment Type\")\n",
    "Sales_type = [n.split(',')[index_PT].strip() for n in Data[1:]]\n",
    "\n",
    "set_sales = set(Sales_type)\n",
    "dic ={}\n",
    "for i in set_sales:\n",
    "    count = Sales_type.count(i)\n",
    "    dic[i] = count\n",
    "print(dic)\n",
    "\n",
    "for key, value in dic.items():\n",
    "    print(\"{} Personas compraron con {}\".format(value, key))\n",
    "    \n"
   ]
  },
  {
   "cell_type": "code",
   "execution_count": 6,
   "metadata": {},
   "outputs": [
    {
     "name": "stdout",
     "output_type": "stream",
     "text": [
      "{'Completed': 2457, 'Refunded': 2431, 'Pending': 2575, 'Cancelled': 2537}\n",
      "2457 Personas tiene la orden en status con Completed\n",
      "2431 Personas tiene la orden en status con Refunded\n",
      "2575 Personas tiene la orden en status con Pending\n",
      "2537 Personas tiene la orden en status con Cancelled\n"
     ]
    }
   ],
   "source": [
    "index_OS= col.index(\"Order Status\\n\")\n",
    "Order_status = [n.split(',')[index_OS].strip() for n in Data[1:]]\n",
    "\n",
    "set_Order = set(Order_status)\n",
    "dic ={}\n",
    "for i in set_Order:\n",
    "    count = Order_status.count(i)\n",
    "    dic[i] = count\n",
    "print(dic)\n",
    "\n",
    "for key, value in dic.items():\n",
    "    print(\"{} Personas tiene la orden en status con {}\".format(value, key))"
   ]
  },
  {
   "cell_type": "code",
   "execution_count": 7,
   "metadata": {},
   "outputs": [
    {
     "name": "stdout",
     "output_type": "stream",
     "text": [
      "Index(['Order ID', 'Product ID', 'Product Category', 'Quantity', 'Unit Price',\n",
      "       'Total Price', 'Order Date', 'Customer ID', 'Payment Type',\n",
      "       'Order Status'],\n",
      "      dtype='object')\n",
      "RangeIndex(start=0, stop=10000, step=1)\n"
     ]
    }
   ],
   "source": [
    "df = pd.read_csv(\"./Data/larger_sales_dataset.csv\")\n",
    "print(df.columns)\n",
    "print(df.index)"
   ]
  },
  {
   "cell_type": "code",
   "execution_count": 8,
   "metadata": {},
   "outputs": [
    {
     "data": {
      "text/plain": [
       "Payment Type\n",
       "PayPal         2573\n",
       "Debit Card     2529\n",
       "Credit Card    2453\n",
       "Gift Card      2445\n",
       "Name: count, dtype: int64"
      ]
     },
     "execution_count": 8,
     "metadata": {},
     "output_type": "execute_result"
    }
   ],
   "source": [
    "df[\"Payment Type\"].value_counts()"
   ]
  },
  {
   "cell_type": "code",
   "execution_count": 9,
   "metadata": {},
   "outputs": [
    {
     "data": {
      "text/plain": [
       "Order Status\n",
       "Pending      2575\n",
       "Cancelled    2537\n",
       "Completed    2457\n",
       "Refunded     2431\n",
       "Name: count, dtype: int64"
      ]
     },
     "execution_count": 9,
     "metadata": {},
     "output_type": "execute_result"
    }
   ],
   "source": [
    "df[\"Order Status\"].value_counts()"
   ]
  },
  {
   "cell_type": "code",
   "execution_count": 10,
   "metadata": {},
   "outputs": [
    {
     "data": {
      "text/plain": [
       "7627241.966965767"
      ]
     },
     "execution_count": 10,
     "metadata": {},
     "output_type": "execute_result"
    }
   ],
   "source": [
    "df[\"Total Price\"].sum()"
   ]
  },
  {
   "cell_type": "code",
   "execution_count": 11,
   "metadata": {},
   "outputs": [
    {
     "data": {
      "text/plain": [
       "10000"
      ]
     },
     "execution_count": 11,
     "metadata": {},
     "output_type": "execute_result"
    }
   ],
   "source": [
    "df[\"Product ID\"].count()"
   ]
  }
 ],
 "metadata": {
  "kernelspec": {
   "display_name": "Python 3",
   "language": "python",
   "name": "python3"
  },
  "language_info": {
   "codemirror_mode": {
    "name": "ipython",
    "version": 3
   },
   "file_extension": ".py",
   "mimetype": "text/x-python",
   "name": "python",
   "nbconvert_exporter": "python",
   "pygments_lexer": "ipython3",
   "version": "3.12.0"
  }
 },
 "nbformat": 4,
 "nbformat_minor": 2
}
