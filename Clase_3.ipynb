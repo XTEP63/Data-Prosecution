{
 "cells": [
  {
   "cell_type": "code",
   "execution_count": 1,
   "metadata": {},
   "outputs": [],
   "source": [
    "import pandas as pd\n",
    "import random"
   ]
  },
  {
   "cell_type": "code",
   "execution_count": 2,
   "metadata": {},
   "outputs": [],
   "source": [
    "nombres = [\"Cristofer\", \"Roi\", \"Ivan\", \"Esteban\"]\n",
    "Edades = [21,19,20,18]"
   ]
  },
  {
   "cell_type": "code",
   "execution_count": 3,
   "metadata": {},
   "outputs": [
    {
     "name": "stdout",
     "output_type": "stream",
     "text": [
      "['Cristofer', 'Roi', 'Ivan', 'Esteban']\n",
      "[21, 19, 20, 18]\n"
     ]
    }
   ],
   "source": [
    "print(nombres)\n",
    "print(Edades)\n"
   ]
  },
  {
   "cell_type": "code",
   "execution_count": 4,
   "metadata": {},
   "outputs": [
    {
     "name": "stdout",
     "output_type": "stream",
     "text": [
      "Cristofer    21\n",
      "Roi          19\n",
      "Ivan         20\n",
      "Esteban      18\n",
      "dtype: int64\n"
     ]
    }
   ],
   "source": [
    "Alumnos = pd.Series(data = Edades, index = nombres)\n",
    "\n",
    "print(Alumnos)"
   ]
  },
  {
   "cell_type": "code",
   "execution_count": 5,
   "metadata": {},
   "outputs": [
    {
     "name": "stdout",
     "output_type": "stream",
     "text": [
      "Cristofer    21\n",
      "Roi          19\n",
      "Ivan         20\n",
      "Esteban      18\n",
      "dtype: int64\n"
     ]
    }
   ],
   "source": [
    "Alumnos_dic = {\"Cristofer\":21, \"Roi\":19, \"Ivan\":20, \"Esteban\":18}\n",
    "\n",
    "Alumnos_dic_Series = pd.Series(Alumnos_dic)\n",
    "print(Alumnos_dic_Series)"
   ]
  },
  {
   "cell_type": "code",
   "execution_count": 6,
   "metadata": {},
   "outputs": [
    {
     "name": "stdout",
     "output_type": "stream",
     "text": [
      "            0\n",
      "Cristofer  21\n",
      "Roi        19\n",
      "Ivan       20\n",
      "Esteban    18\n"
     ]
    }
   ],
   "source": [
    "Alumnos_lis_df = pd.DataFrame(index = nombres, data = Edades)\n",
    "\n",
    "print(Alumnos_lis_df)"
   ]
  },
  {
   "cell_type": "code",
   "execution_count": 7,
   "metadata": {},
   "outputs": [
    {
     "name": "stdout",
     "output_type": "stream",
     "text": [
      "           Edad  Estatura\n",
      "Cristofer    12      1.73\n",
      "Roi          19      1.84\n",
      "Ivan         20      1.65\n",
      "Esteban      18      1.73\n"
     ]
    }
   ],
   "source": [
    "data = [[12,1.73],[19,1.84], [20,1.65], [18,1.73]]\n",
    "\n",
    "alumnos_df = pd.DataFrame(index = nombres, data = data, columns =[\"Edad\", \"Estatura\"])\n",
    "print(alumnos_df)"
   ]
  },
  {
   "cell_type": "code",
   "execution_count": 8,
   "metadata": {},
   "outputs": [
    {
     "name": "stdout",
     "output_type": "stream",
     "text": [
      "     Sepal_length  Sepal_width  Petal_length  Petal_width           Class\n",
      "0             5.1          3.5           1.4          0.2     Iris-setosa\n",
      "1             4.9          3.0           1.4          0.2     Iris-setosa\n",
      "2             4.7          3.2           1.3          0.2     Iris-setosa\n",
      "3             4.6          3.1           1.5          0.2     Iris-setosa\n",
      "4             5.0          3.6           1.4          0.2     Iris-setosa\n",
      "..            ...          ...           ...          ...             ...\n",
      "145           6.7          3.0           5.2          2.3  Iris-virginica\n",
      "146           6.3          2.5           5.0          1.9  Iris-virginica\n",
      "147           6.5          3.0           5.2          2.0  Iris-virginica\n",
      "148           6.2          3.4           5.4          2.3  Iris-virginica\n",
      "149           5.9          3.0           5.1          1.8  Iris-virginica\n",
      "\n",
      "[150 rows x 5 columns]\n"
     ]
    }
   ],
   "source": [
    "url = \"https://archive.ics.uci.edu/ml/machine-learning-databases/iris/iris.data\"\n",
    "col_names = [\"Sepal_length\", \"Sepal_width\",\"Petal_length\", \"Petal_width\",\"Class\"]\n",
    "\n",
    "iris_csv = pd.read_csv(url, names = col_names)\n",
    "print(iris_csv)"
   ]
  },
  {
   "cell_type": "code",
   "execution_count": 9,
   "metadata": {},
   "outputs": [
    {
     "data": {
      "text/plain": [
       "[0, 1, 2, 3, 4, 5, 6, 7, 8, 9]"
      ]
     },
     "execution_count": 9,
     "metadata": {},
     "output_type": "execute_result"
    }
   ],
   "source": [
    "Lista_data = []\n",
    "for i in range(10):\n",
    "    Lista_data.append(i)\n",
    "    \n",
    "Lista_data"
   ]
  },
  {
   "cell_type": "code",
   "execution_count": 10,
   "metadata": {},
   "outputs": [
    {
     "data": {
      "text/plain": [
       "['A', 'B', 'C', 'D', 'E', 'F', 'G', 'H', 'I', 'J']"
      ]
     },
     "execution_count": 10,
     "metadata": {},
     "output_type": "execute_result"
    }
   ],
   "source": [
    "Lista_index = []\n",
    "for i in range(10):\n",
    "    Lista_index.append(chr(i+65))\n",
    "    \n",
    "Lista_index"
   ]
  },
  {
   "cell_type": "code",
   "execution_count": 11,
   "metadata": {},
   "outputs": [
    {
     "data": {
      "text/plain": [
       "A    0\n",
       "B    1\n",
       "C    2\n",
       "D    3\n",
       "E    4\n",
       "F    5\n",
       "G    6\n",
       "H    7\n",
       "I    8\n",
       "J    9\n",
       "dtype: int64"
      ]
     },
     "execution_count": 11,
     "metadata": {},
     "output_type": "execute_result"
    }
   ],
   "source": [
    "Serie = pd.Series(index = Lista_index, data = Lista_data)\n",
    "\n",
    "Serie"
   ]
  },
  {
   "cell_type": "code",
   "execution_count": 31,
   "metadata": {},
   "outputs": [
    {
     "name": "stdout",
     "output_type": "stream",
     "text": [
      "    0   1   2   3   4\n",
      "A  73  85  58  49  32\n",
      "B  53  14  81   9  82\n",
      "C   6  22  99  73  63\n",
      "D  45  95   5  17  27\n",
      "E   7  22  59  29  51\n",
      "F  45  75  61  62  66\n",
      "G  72  21  65  32  33\n",
      "H  73  89  60  90  54\n",
      "I   2   4  86  42  96\n",
      "J  12  67  72  77  31\n"
     ]
    }
   ],
   "source": [
    "Lista_df = []\n",
    "\n",
    "for i in range(10):\n",
    "    Lista_df.append([])\n",
    "    for j in range(5):\n",
    "        Lista_df[i].append(random.randint(1, 100))\n",
    "        \n",
    "df = pd.DataFrame(Lista_df, index = Lista_index)\n",
    "print(df)"
   ]
  }
 ],
 "metadata": {
  "kernelspec": {
   "display_name": "base",
   "language": "python",
   "name": "python3"
  },
  "language_info": {
   "codemirror_mode": {
    "name": "ipython",
    "version": 3
   },
   "file_extension": ".py",
   "mimetype": "text/x-python",
   "name": "python",
   "nbconvert_exporter": "python",
   "pygments_lexer": "ipython3",
   "version": "3.11.4"
  }
 },
 "nbformat": 4,
 "nbformat_minor": 2
}
