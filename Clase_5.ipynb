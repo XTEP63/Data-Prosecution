{
 "cells": [
  {
   "cell_type": "code",
   "execution_count": 13,
   "metadata": {},
   "outputs": [],
   "source": [
    "import cv2\n",
    "import numpy as np"
   ]
  },
  {
   "cell_type": "code",
   "execution_count": 14,
   "metadata": {},
   "outputs": [],
   "source": [
    "imagen = cv2.imread(\"C.jpg\")\n",
    "\n",
    "cv2.imshow(\"B\", imagen)\n",
    "cv2.waitKey(0)\n",
    "cv2.destroyAllWindows()"
   ]
  },
  {
   "cell_type": "code",
   "execution_count": 15,
   "metadata": {},
   "outputs": [],
   "source": [
    "imgen_bin = np.zeros_like(imagen)\n",
    "\n",
    "cv2.imshow(\"Zeros\", imgen_bin)\n",
    "cv2.waitKey(0)\n",
    "cv2.destroyAllWindows()"
   ]
  },
  {
   "cell_type": "code",
   "execution_count": 16,
   "metadata": {},
   "outputs": [],
   "source": [
    "r, c, d = imagen.shape\n",
    "def clasificador(imagen):\n",
    "\n",
    "    #r  29, 204\n",
    "    #g  78, 217\n",
    "    #b  212, 253\n",
    "    #BGR\n",
    "\n",
    "    for i in range(r):\n",
    "        for j in range(c):\n",
    "            if imagen[i, j, 0] >= 212 and imagen[i, j, 0] <251:\n",
    "                if imagen[i, j, 1] >= 78 and imagen[i, j, 1] <=217:\n",
    "                    if imagen[i, j, 2] >= 29 and imagen[i, j, 2] <=202:\n",
    "                        imgen_bin[i,j,0], imgen_bin[i,j,1], imgen_bin[i,j,2] = 255,255,255\n",
    "\n",
    "clasificador(imagen)\n",
    "\n"
   ]
  },
  {
   "cell_type": "code",
   "execution_count": 17,
   "metadata": {},
   "outputs": [],
   "source": [
    "#imgen_bin[:,:,0], imgen_bin[:,:,1], imgen_bin[:,:,2] = 255,255,255\n",
    "cv2.imshow(\"Zeros\", imgen_bin)\n",
    "cv2.waitKey(0)\n",
    "cv2.destroyAllWindows()"
   ]
  },
  {
   "cell_type": "code",
   "execution_count": 18,
   "metadata": {},
   "outputs": [],
   "source": [
    "imagen_b1 = imagen.copy() * 0.3\n",
    "imagen_b1 = np.asarray(imagen_b1, dtype = np.uint8)\n",
    "\n",
    "cv2.imshow(\"Alpha\", imagen_b1)\n",
    "cv2.waitKey(0)\n",
    "cv2.destroyAllWindows()\n"
   ]
  },
  {
   "cell_type": "code",
   "execution_count": 19,
   "metadata": {},
   "outputs": [],
   "source": [
    "imagen_cr = imagen.copy()\n",
    "imagen = np.asarray(imagen, dtype = np.uint16)\n",
    "\n",
    "count = 0 \n",
    "count_z = 0\n",
    "\n",
    "for i in range(r):\n",
    "    for j in range(c):\n",
    "        sumaRGB = (imagen[i,j,2] + imagen[i,j,1] + imagen[i,j,0]) \n",
    "        if imagen[i,j,2] + imagen[i,j,1] + imagen[i,j,0] !=0:\n",
    "            imagen_cr[i,j,2] = imagen[i,j,2] / sumaRGB\n",
    "            imagen_cr[i,j,1] = imagen[i,j,1] / sumaRGB\n",
    "            imagen_cr[i,j,0] = imagen[i,j,0] / sumaRGB\n",
    "            count +=1\n",
    "        else:\n",
    "            imagen_cr[i,j,2] = imagen[i,j,2] / 1\n",
    "            imagen_cr[i,j,1] = imagen[i,j,1] / 1\n",
    "            imagen_cr[i,j,0] = imagen[i,j,0] / 1\n",
    "            count_z += 1 \n",
    "\n",
    "imagen = np.asarray(imagen, dtype = np.uint8)\n",
    "\n",
    "#imagen_cr = np.asarray(imagen_cr, dtype = np.uint8)\n",
    "cv2.imshow(\"Chromatic\", imagen_cr)\n",
    "cv2.waitKey(0)\n",
    "cv2.destroyAllWindows()\n",
    "\n",
    "\n"
   ]
  }
 ],
 "metadata": {
  "kernelspec": {
   "display_name": "base",
   "language": "python",
   "name": "python3"
  },
  "language_info": {
   "codemirror_mode": {
    "name": "ipython",
    "version": 3
   },
   "file_extension": ".py",
   "mimetype": "text/x-python",
   "name": "python",
   "nbconvert_exporter": "python",
   "pygments_lexer": "ipython3",
   "version": "3.11.7"
  }
 },
 "nbformat": 4,
 "nbformat_minor": 2
}
